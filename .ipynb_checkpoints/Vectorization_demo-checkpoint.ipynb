{
 "cells": [
  {
   "cell_type": "code",
   "execution_count": 62,
   "metadata": {},
   "outputs": [
    {
     "name": "stdout",
     "output_type": "stream",
     "text": [
      "[1 2 3 4 5]\n"
     ]
    }
   ],
   "source": [
    "import numpy as np\n",
    "\n",
    "a = np.array([1,2,3,4,5])\n",
    "print(a)"
   ]
  },
  {
   "cell_type": "code",
   "execution_count": 65,
   "metadata": {},
   "outputs": [
    {
     "name": "stdout",
     "output_type": "stream",
     "text": [
      "Vectorization time is: 0.0034770965576171875 seconds\n",
      "The for loop time is: 0.4243009090423584\n",
      "The for loop execution time it is 122.02735874931432 times bigger than the vectorization method\n"
     ]
    }
   ],
   "source": [
    "import time\n",
    "\n",
    "a = np.random.rand(1000000)\n",
    "b = np.random.rand(1000000)\n",
    "\n",
    "tic = time.time()\n",
    "c = np.dot(a,b)\n",
    "toc = time.time()\n",
    "\n",
    "print(\"Vectorization time is: {} seconds\". format(toc - tic))\n",
    "\n",
    "c = 0\n",
    "tic1 = time.time()\n",
    "for i in range(1000000):\n",
    "     c += a[i] * b[i]\n",
    "toc1 = time.time()\n",
    "\n",
    "print(\"The for loop time is: {}\".format(toc1 - tic1))\n",
    "print (\"The for loop execution time it is {} times bigger than the vectorization method\".format((toc1 - tic1) / (toc - tic)))\n"
   ]
  }
 ],
 "metadata": {
  "kernelspec": {
   "display_name": "Python 3",
   "language": "python",
   "name": "python3"
  },
  "language_info": {
   "codemirror_mode": {
    "name": "ipython",
    "version": 3
   },
   "file_extension": ".py",
   "mimetype": "text/x-python",
   "name": "python",
   "nbconvert_exporter": "python",
   "pygments_lexer": "ipython3",
   "version": "3.6.4"
  }
 },
 "nbformat": 4,
 "nbformat_minor": 2
}
