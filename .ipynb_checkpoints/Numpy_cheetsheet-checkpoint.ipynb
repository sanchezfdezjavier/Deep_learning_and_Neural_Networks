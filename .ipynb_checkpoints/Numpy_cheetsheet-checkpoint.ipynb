{
 "cells": [
  {
   "cell_type": "markdown",
   "metadata": {},
   "source": [
    "## All of this fuctions were created to avoid using default python functions which are much slower for all this stuff."
   ]
  },
  {
   "cell_type": "code",
   "execution_count": 17,
   "metadata": {},
   "outputs": [
    {
     "name": "stdout",
     "output_type": "stream",
     "text": [
      "[-5 -4 -3 -2 -1  0  1  2  3  4  5]\n"
     ]
    }
   ],
   "source": [
    "# Numpy import\n",
    "import numpy as np\n",
    "\n",
    "a = np.arange(-5,6)\n",
    "print(a)"
   ]
  },
  {
   "cell_type": "code",
   "execution_count": 10,
   "metadata": {},
   "outputs": [
    {
     "name": "stdout",
     "output_type": "stream",
     "text": [
      "[6.73794700e-03 1.83156389e-02 4.97870684e-02 1.35335283e-01\n",
      " 3.67879441e-01 1.00000000e+00 2.71828183e+00 7.38905610e+00\n",
      " 2.00855369e+01 5.45981500e+01 1.48413159e+02]\n"
     ]
    }
   ],
   "source": [
    "# This fuction elevates the number 'e' to the array value.\n",
    "\n",
    "aexp = np.exp(a)\n",
    "print(aexp) "
   ]
  },
  {
   "cell_type": "code",
   "execution_count": 15,
   "metadata": {},
   "outputs": [
    {
     "name": "stdout",
     "output_type": "stream",
     "text": [
      "[5 4 3 2 1 0 1 2 3 4 5]\n"
     ]
    }
   ],
   "source": [
    "# Absolute\n",
    "\n",
    "aabs = np.abs(a)\n",
    "print(aabs)"
   ]
  },
  {
   "cell_type": "code",
   "execution_count": 16,
   "metadata": {},
   "outputs": [
    {
     "name": "stdout",
     "output_type": "stream",
     "text": [
      "5\n"
     ]
    }
   ],
   "source": [
    "# Maximum\n",
    "\n",
    "amax = np.max(a)\n",
    "print(amax)"
   ]
  }
 ],
 "metadata": {
  "kernelspec": {
   "display_name": "Python 3",
   "language": "python",
   "name": "python3"
  },
  "language_info": {
   "codemirror_mode": {
    "name": "ipython",
    "version": 3
   },
   "file_extension": ".py",
   "mimetype": "text/x-python",
   "name": "python",
   "nbconvert_exporter": "python",
   "pygments_lexer": "ipython3",
   "version": "3.6.4"
  }
 },
 "nbformat": 4,
 "nbformat_minor": 2
}
