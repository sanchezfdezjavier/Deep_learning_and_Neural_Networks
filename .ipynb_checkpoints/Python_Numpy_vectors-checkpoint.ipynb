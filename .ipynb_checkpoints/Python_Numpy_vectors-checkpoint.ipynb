{
 "cells": [
  {
   "cell_type": "code",
   "execution_count": 2,
   "metadata": {},
   "outputs": [
    {
     "name": "stdout",
     "output_type": "stream",
     "text": [
<<<<<<< HEAD
      "[ 0.12123902 -0.50855142  0.45348352 -1.07977588 -0.28731258]\n"
=======
      "[0.67282378 1.48741025 0.46757478 0.76316618 0.22730914]\n"
>>>>>>> e97c32fe389d52d14eab6eb4e07449e9b3305a15
     ]
    }
   ],
   "source": [
    "import numpy as np\n",
    "\n",
    "# randn(x) generates a random array full of numbers between -1 and 1.\n",
    "a = np.random.randn(5)\n",
    "print(a)"
   ]
  },
  {
   "cell_type": "code",
   "execution_count": 16,
   "metadata": {},
   "outputs": [
    {
     "name": "stdout",
     "output_type": "stream",
     "text": [
      "(5,)\n"
     ]
    }
   ],
   "source": [
    "# This is call a rank1 array.\n",
    "print(a.shape)"
   ]
  },
  {
   "cell_type": "code",
   "execution_count": 28,
   "metadata": {},
   "outputs": [
    {
     "name": "stdout",
     "output_type": "stream",
     "text": [
      "[ 0.84910949 -1.98513133  0.36396277 -1.86970598 -0.24366295]\n"
     ]
    }
   ],
   "source": [
    "# This is how to transpose a matrix\n",
    "a_transpose = a.T\n",
    "print(a_transpose)"
   ]
  },
  {
   "cell_type": "code",
   "execution_count": 30,
   "metadata": {},
   "outputs": [
    {
     "name": "stdout",
     "output_type": "stream",
     "text": [
      "8.349374285210828\n"
     ]
    }
   ],
   "source": [
    "print(np.dot(a, a.T))\n",
    "#Because of this is not recomended to work with rank1 arrays."
   ]
  },
  {
   "cell_type": "code",
   "execution_count": 35,
   "metadata": {},
   "outputs": [
    {
     "name": "stdout",
     "output_type": "stream",
     "text": [
      "Raw vector\n",
      "[[ 1.04786557]\n",
      " [ 1.49377437]\n",
      " [-0.26292699]\n",
      " [-0.55592276]\n",
      " [-0.37866053]]\n",
      "Transpose vector\n",
      "[[ 1.04786557  1.49377437 -0.26292699 -0.55592276 -0.37866053]]\n"
     ]
    }
   ],
   "source": [
    "# The best way to avoid the previous example it is using columns vectors like this.\n",
    "\n",
    "a = np.random.randn(5,1)\n",
    "print(\"Raw vector\")\n",
    "print(a)\n",
    "print(\"Transpose vector\")\n",
    "print(a.T)"
   ]
  },
  {
   "cell_type": "code",
   "execution_count": 44,
   "metadata": {},
   "outputs": [
    {
     "name": "stdout",
     "output_type": "stream",
     "text": [
      "[[ 1.09802226  1.56527474 -0.27551214 -0.58253233 -0.39678533]\n",
      " [ 1.56527474  2.23136187 -0.39275359 -0.83042318 -0.56563339]\n",
      " [-0.27551214 -0.39275359  0.0691306   0.1461671   0.09956007]\n",
      " [-0.58253233 -0.83042318  0.1461671   0.30905012  0.21050601]\n",
      " [-0.39678533 -0.56563339  0.09956007  0.21050601  0.1433838 ]]\n"
     ]
    }
   ],
   "source": [
    "# If we operate the previous vectors we can see now the right operation\n",
    "\n",
    "print(np.dot(a, a.T))"
   ]
  },
  {
   "cell_type": "code",
   "execution_count": 48,
   "metadata": {},
   "outputs": [
    {
     "name": "stdout",
     "output_type": "stream",
     "text": [
      "[[-0.17267539  0.06282201  0.00742995]\n",
      " [ 0.53226171 -0.55336814  0.14882006]\n",
      " [-1.16561721  1.07587873  1.34512467]]\n"
     ]
    }
   ],
   "source": [
    "a =  np.random.randn(3,3)\n",
    "b = np.random.randn(3,1)\n",
    "c = a*b\n",
    "print(c)"
   ]
  },
  {
   "cell_type": "code",
   "execution_count": 62,
   "metadata": {},
   "outputs": [
    {
     "name": "stdout",
     "output_type": "stream",
     "text": [
      "[[ 1]\n",
      " [ 2]\n",
      " [ 3]\n",
      " [ 4]\n",
      " [ 5]\n",
      " [ 6]\n",
      " [ 7]\n",
      " [ 8]\n",
      " [ 9]\n",
      " [10]\n",
      " [11]\n",
      " [12]]\n"
     ]
    }
   ],
   "source": [
    "# Reshaping tests\n",
    "\n",
    "array = np.array([[1,2,3],\n",
    "                 [4,5,6],\n",
    "                 [7,8,9],\n",
    "                 [10,11,12]])\n",
    "reshaped = array.reshape(12,1)\n",
    "print(reshaped)"
   ]
  },
  {
   "cell_type": "code",
   "execution_count": 73,
   "metadata": {
    "scrolled": true
   },
   "outputs": [
    {
     "data": {
      "text/plain": [
       "3"
      ]
     },
     "execution_count": 73,
     "metadata": {},
     "output_type": "execute_result"
    }
   ],
   "source": [
    "array.shape\n",
    "# How many rows?\n",
    "array.shape[0]\n",
    "# How many columns?\n",
    "array.shape[1]\n",
    "\n",
    "# To sum up, the .shape[n] it is used to know the number of elements in each array dimension.\n",
    "    # First rows, second columns, third height and so on."
   ]
  },
  {
   "cell_type": "code",
   "execution_count": 87,
   "metadata": {},
   "outputs": [
    {
     "name": "stdout",
     "output_type": "stream",
     "text": [
      "[[ 1.41421356]\n",
      " [10.04987562]]\n"
     ]
    }
   ],
   "source": [
    "# Testing vector normalization\n",
    "\n",
    "x = np.array([[1,1,0],\n",
    "             [4,6,7]])\n",
    "\n",
    "x_norm = np.linalg.norm(x, axis=1, keepdims=True)\n",
    "print(x_norm)"
   ]
  },
  {
   "cell_type": "code",
   "execution_count": 100,
   "metadata": {},
   "outputs": [
    {
     "name": "stdout",
     "output_type": "stream",
     "text": [
      "[[2 2 2 0 0]\n",
      " [1 1 3 0 0]]\n",
      "[[24.1671683 ]\n",
      " [27.52210058]]\n",
      "[[0.0827569  0.0827569  0.0827569  0.         0.        ]\n",
      " [0.03633444 0.03633444 0.10900331 0.         0.        ]]\n"
     ]
    }
   ],
   "source": [
    "# Softmax test\n",
    "\n",
    "x = np.array([\n",
    "    [2, 2, 2, 0, 0],\n",
    "    [1, 1, 3, 0 ,0]])\n",
    "\n",
    "print(x)\n",
    "x_exp = np.exp(x)\n",
    "x_sum = np.sum(x_exp, axis = 1, keepdims = True)\n",
    "print(x_sum)\n",
    "\n",
    "print (x/x_sum)"
   ]
  },
  {
   "cell_type": "code",
   "execution_count": 149,
   "metadata": {},
   "outputs": [
    {
     "name": "stdout",
     "output_type": "stream",
     "text": [
      "Test array\n",
      "[[1 2 3]\n",
      " [4 5 6]\n",
      " [7 8 9]]\n",
      "---------------------------------------\n",
      "Identity matrix\n",
      "[[1 0 0]\n",
      " [0 1 0]\n",
      " [0 0 1]]\n",
      "Old school product (element wise):\n",
      "[[1 0 0]\n",
      " [0 5 0]\n",
      " [0 0 9]]\n",
      "Numpy dot product (common matrix product):\n",
      "[[1 2 3]\n",
      " [4 5 6]\n",
      " [7 8 9]]\n",
      "Numpy outer product (all combinations?):\n",
      "[[1 0 0 0 1 0 0 0 1]\n",
      " [2 0 0 0 2 0 0 0 2]\n",
      " [3 0 0 0 3 0 0 0 3]\n",
      " [4 0 0 0 4 0 0 0 4]\n",
      " [5 0 0 0 5 0 0 0 5]\n",
      " [6 0 0 0 6 0 0 0 6]\n",
      " [7 0 0 0 7 0 0 0 7]\n",
      " [8 0 0 0 8 0 0 0 8]\n",
      " [9 0 0 0 9 0 0 0 9]]\n"
     ]
    }
   ],
   "source": [
    "# Testing the different types or products\n",
    "a = np.array([[1,2,3],\n",
    "             [4,5,6],\n",
    "             [7,8,9]])\n",
    "b = np.array([[1,0,0],\n",
    "             [0,1,0],\n",
    "             [0,0,1]])\n",
    "print(\"Test array\")\n",
    "print(a)\n",
    "print(\"---------------------------------------\")\n",
    "print(\"Identity matrix\")\n",
    "print(b)\n",
    "\n",
    "print(\"Old school product (element wise):\")\n",
    "print(a * b)\n",
    "print(\"Numpy dot product (common matrix product):\")\n",
    "print(np.dot(a,b))\n",
    "print(\"Numpy outer product (all combinations?):\")\n",
    "print(np.outer(a,b))"
   ]
  },
  {
   "cell_type": "code",
   "execution_count": 146,
   "metadata": {},
   "outputs": [
    {
     "name": "stdout",
     "output_type": "stream",
     "text": [
      "[[1.41421356 2.44948974 5.83095189]]\n",
      "14\n"
     ]
    }
   ],
   "source": [
    "# Normalization test\n",
    "\n",
    "test = np.array([[1,2,3],\n",
    "                 [0,1,0],\n",
    "                 [1,1,5]])\n",
    "\n",
    "print(np.linalg.norm(test, axis = 0,keepdims = True))\n",
    "print(np.sum(test))\n"
   ]
  },
  {
   "cell_type": "code",
<<<<<<< HEAD
   "execution_count": 14,
   "metadata": {},
   "outputs": [
    {
     "name": "stdout",
     "output_type": "stream",
     "text": [
      "[[ 1.67461776  1.26932076 -0.32089385]\n",
      " [ 0.55216133  1.2648938   0.11352459]\n",
      " [ 0.28833508  1.1679233  -0.3908761 ]\n",
      " [-0.65602157 -0.51013961 -0.88489807]]\n",
      "[[ 2.62304466]\n",
      " [ 1.93057971]\n",
      " [ 1.06538227]\n",
      " [-2.05105924]]\n",
      "(4, 1)\n"
     ]
    }
   ],
   "source": [
    "# Just some testing\n",
    "\n",
    "A = np.random.randn(4,3)\n",
    "print(A)\n",
    "B = np.sum(A, axis = 1, keepdims = True)\n",
    "print(B)\n",
    "print(B.shape)"
   ]
  },
  {
   "cell_type": "code",
   "execution_count": null,
   "metadata": {},
   "outputs": [],
   "source": []
  },
  {
   "cell_type": "code",
   "execution_count": null,
   "metadata": {},
   "outputs": [],
   "source": []
  },
  {
   "cell_type": "code",
   "execution_count": null,
=======
   "execution_count": 24,
>>>>>>> e97c32fe389d52d14eab6eb4e07449e9b3305a15
   "metadata": {},
   "outputs": [
    {
     "name": "stdout",
     "output_type": "stream",
     "text": [
      "[1 2 3 4 5]\n",
      "[[5]\n",
      " [6]\n",
      " [7]\n",
      " [8]\n",
      " [9]]\n"
     ]
    }
   ],
   "source": [
    "# Another product test.\n",
    "\n",
    "a = np.arange(1, 6)\n",
    "b = np.arange(5, 10).reshape(5, 1)\n",
    "print(a)\n",
    "print(b)"
   ]
  },
  {
   "cell_type": "code",
   "execution_count": 20,
   "metadata": {},
   "outputs": [
    {
     "name": "stdout",
     "output_type": "stream",
     "text": [
      "[55]\n"
     ]
    }
   ],
   "source": [
    "# Common matrix product.\n",
    "print(np.dot(a, b))"
   ]
  },
  {
   "cell_type": "code",
   "execution_count": 26,
   "metadata": {},
   "outputs": [
    {
     "name": "stdout",
     "output_type": "stream",
     "text": [
      "[[ 5 10 15 20 25]\n",
      " [ 6 12 18 24 30]\n",
      " [ 7 14 21 28 35]\n",
      " [ 8 16 24 32 40]\n",
      " [ 9 18 27 36 45]]\n"
     ]
    }
   ],
   "source": [
    "# Broadcasting product.\n",
    "    # Modifies the second array to fit the element-wise multiplication with the first array.\n",
    "    # So in this example 'b' will be modify into a new array of shape (5,5) which columns will be the originall 'b' copied for each new column.\n",
    "print(a * b)"
   ]
  }
 ],
 "metadata": {
  "kernelspec": {
   "display_name": "Python 3",
   "language": "python",
   "name": "python3"
  },
  "language_info": {
   "codemirror_mode": {
    "name": "ipython",
    "version": 3
   },
   "file_extension": ".py",
   "mimetype": "text/x-python",
   "name": "python",
   "nbconvert_exporter": "python",
   "pygments_lexer": "ipython3",
   "version": "3.6.4"
  }
 },
 "nbformat": 4,
 "nbformat_minor": 2
}
