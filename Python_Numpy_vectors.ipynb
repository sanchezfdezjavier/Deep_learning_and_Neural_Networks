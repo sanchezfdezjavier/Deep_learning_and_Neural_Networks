{
 "cells": [
  {
   "cell_type": "code",
   "execution_count": 13,
   "metadata": {},
   "outputs": [
    {
     "name": "stdout",
     "output_type": "stream",
     "text": [
      "[ 0.84910949 -1.98513133  0.36396277 -1.86970598 -0.24366295]\n"
     ]
    }
   ],
   "source": [
    "import numpy as np\n",
    "\n",
    "# randn(x) generates a random array full of numbers between -1 and 1.\n",
    "a = np.random.randn(5)\n",
    "print(a)"
   ]
  },
  {
   "cell_type": "code",
   "execution_count": 16,
   "metadata": {},
   "outputs": [
    {
     "name": "stdout",
     "output_type": "stream",
     "text": [
      "(5,)\n"
     ]
    }
   ],
   "source": [
    "# This is call a rank1 array.\n",
    "print(a.shape)"
   ]
  },
  {
   "cell_type": "code",
   "execution_count": 28,
   "metadata": {},
   "outputs": [
    {
     "name": "stdout",
     "output_type": "stream",
     "text": [
      "[ 0.84910949 -1.98513133  0.36396277 -1.86970598 -0.24366295]\n"
     ]
    }
   ],
   "source": [
    "# This is how to transpose a matrix\n",
    "a_transpose = a.T\n",
    "print(a_transpose)"
   ]
  },
  {
   "cell_type": "code",
   "execution_count": 30,
   "metadata": {},
   "outputs": [
    {
     "name": "stdout",
     "output_type": "stream",
     "text": [
      "8.349374285210828\n"
     ]
    }
   ],
   "source": [
    "print(np.dot(a, a.T))\n",
    "#Because of this is not recomended to work with rank1 arrays."
   ]
  },
  {
   "cell_type": "code",
   "execution_count": 35,
   "metadata": {},
   "outputs": [
    {
     "name": "stdout",
     "output_type": "stream",
     "text": [
      "Raw vector\n",
      "[[ 1.04786557]\n",
      " [ 1.49377437]\n",
      " [-0.26292699]\n",
      " [-0.55592276]\n",
      " [-0.37866053]]\n",
      "Transpose vector\n",
      "[[ 1.04786557  1.49377437 -0.26292699 -0.55592276 -0.37866053]]\n"
     ]
    }
   ],
   "source": [
    "# The best way to avoid the previous example it is using columns vectors like this.\n",
    "\n",
    "a = np.random.randn(5,1)\n",
    "print(\"Raw vector\")\n",
    "print(a)\n",
    "print(\"Transpose vector\")\n",
    "print(a.T)"
   ]
  },
  {
   "cell_type": "code",
   "execution_count": 36,
   "metadata": {},
   "outputs": [
    {
     "name": "stdout",
     "output_type": "stream",
     "text": [
      "[[ 1.09802226  1.56527474 -0.27551214 -0.58253233 -0.39678533]\n",
      " [ 1.56527474  2.23136187 -0.39275359 -0.83042318 -0.56563339]\n",
      " [-0.27551214 -0.39275359  0.0691306   0.1461671   0.09956007]\n",
      " [-0.58253233 -0.83042318  0.1461671   0.30905012  0.21050601]\n",
      " [-0.39678533 -0.56563339  0.09956007  0.21050601  0.1433838 ]]\n"
     ]
    }
   ],
   "source": [
    "# If we operate the previous vectors we can see now the right operation\n",
    "\n",
    "print(np.dot(a, a.T))"
   ]
  }
 ],
 "metadata": {
  "kernelspec": {
   "display_name": "Python 3",
   "language": "python",
   "name": "python3"
  },
  "language_info": {
   "codemirror_mode": {
    "name": "ipython",
    "version": 3
   },
   "file_extension": ".py",
   "mimetype": "text/x-python",
   "name": "python",
   "nbconvert_exporter": "python",
   "pygments_lexer": "ipython3",
   "version": "3.6.4"
  }
 },
 "nbformat": 4,
 "nbformat_minor": 2
}
